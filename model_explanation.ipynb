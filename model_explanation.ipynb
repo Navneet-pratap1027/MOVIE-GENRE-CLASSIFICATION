{
 "cells": [
  {
   "cell_type": "markdown",
   "id": "b9a6ceb2",
   "metadata": {},
   "source": [
    "# MOVIE GENRE CLASSIFICATION\n",
    "\n",
    " Create a machine learning model that can predict the genre of a\n",
    " movie based on its plot summary or other textual information. You\n",
    " can use techniques like TF-IDF or word embeddings with classifiers\n",
    " such as Naive Bayes, Logistic Regression, or Support Vector\n",
    " Machines."
   ]
  },
  {
   "cell_type": "code",
   "execution_count": 1,
   "id": "b7ddd044",
   "metadata": {},
   "outputs": [],
   "source": [
    "import pandas as pd\n",
    "import numpy as np \n",
    "from sklearn.linear_model import LogisticRegression\n",
    "from sklearn.naive_bayes import MultinomialNB\n",
    "from sklearn.svm import SVC\n",
    "from sklearn.feature_extraction.text import TfidfVectorizer\n",
    "from sklearn.metrics import accuracy_score,f1_score,recall_score,precision_score"
   ]
  },
  {
   "cell_type": "code",
   "execution_count": 2,
   "id": "1f4d1bab",
   "metadata": {},
   "outputs": [
    {
     "name": "stderr",
     "output_type": "stream",
     "text": [
      "C:\\Users\\HP\\AppData\\Local\\Temp\\ipykernel_10196\\4033484966.py:2: ParserWarning: Falling back to the 'python' engine because the 'c' engine does not support regex separators (separators > 1 char and different from '\\s+' are interpreted as regex); you can avoid this warning by specifying engine='python'.\n",
      "  df_train = pd.read_csv(\"train_data.txt\", sep=':::',header=None )\n",
      "C:\\Users\\HP\\AppData\\Local\\Temp\\ipykernel_10196\\4033484966.py:6: ParserWarning: Falling back to the 'python' engine because the 'c' engine does not support regex separators (separators > 1 char and different from '\\s+' are interpreted as regex); you can avoid this warning by specifying engine='python'.\n",
      "  df_test = pd.read_csv(\"test_data_solution.txt\", sep=':::',header=None )\n"
     ]
    }
   ],
   "source": [
    "## train data\n",
    "df_train = pd.read_csv(\"train_data.txt\", sep=':::',header=None )\n",
    "df_train.columns=['ID', 'TITLE', 'GENRE', 'DESCRIPTION']\n",
    "df_train.dropna(subset=['DESCRIPTION', 'GENRE'], inplace=True)\n",
    "\n",
    "df_test = pd.read_csv(\"test_data_solution.txt\", sep=':::',header=None )\n",
    "df_test.columns=['ID', 'TITLE', 'GENRE' , 'DESCRIPTION']\n"
   ]
  },
  {
   "cell_type": "code",
   "execution_count": 3,
   "id": "414c87d9",
   "metadata": {},
   "outputs": [],
   "source": [
    "## Feature Selection\n",
    "\n",
    "tfidf = TfidfVectorizer(stop_words='english', max_features=5000)\n",
    "X_train = tfidf.fit_transform(df_train['DESCRIPTION'])\n",
    "\n",
    "# Target labels\n",
    "y_train = df_train['GENRE']\n",
    "\n",
    "\n",
    "X_test = tfidf.transform(df_test['DESCRIPTION'])\n",
    "y_test=df_test['GENRE']\n"
   ]
  },
  {
   "cell_type": "code",
   "execution_count": null,
   "id": "fe8e33b1",
   "metadata": {},
   "outputs": [
    {
     "name": "stderr",
     "output_type": "stream",
     "text": [
      "c:\\Users\\HP\\AppData\\Local\\Programs\\Python\\Python313\\Lib\\site-packages\\sklearn\\linear_model\\_logistic.py:470: ConvergenceWarning: lbfgs failed to converge after 100 iteration(s) (status=1):\n",
      "STOP: TOTAL NO. OF ITERATIONS REACHED LIMIT\n",
      "\n",
      "Increase the number of iterations to improve the convergence (max_iter=100).\n",
      "You might also want to scale the data as shown in:\n",
      "    https://scikit-learn.org/stable/modules/preprocessing.html\n",
      "Please also refer to the documentation for alternative solver options:\n",
      "    https://scikit-learn.org/stable/modules/linear_model.html#logistic-regression\n",
      "  n_iter_i = _check_optimize_result(\n",
      "c:\\Users\\HP\\AppData\\Local\\Programs\\Python\\Python313\\Lib\\site-packages\\sklearn\\metrics\\_classification.py:1706: UndefinedMetricWarning: Precision is ill-defined and being set to 0.0 in labels with no predicted samples. Use `zero_division` parameter to control this behavior.\n",
      "  _warn_prf(average, modifier, f\"{metric.capitalize()} is\", result.shape[0])\n"
     ]
    },
    {
     "name": "stdout",
     "output_type": "stream",
     "text": [
      "Logistic-Regression\n",
      "Model performance for Training set\n",
      "- Accuracy: 0.6610\n",
      "- F1 score: 0.6287\n",
      "- Precision: 0.6597\n",
      "- Recall: 0.6610\n",
      "----------------------------------\n",
      "Model performance for Test set\n",
      "- Accuracy: 0.5842\n",
      "- F1 score: 0.5457\n",
      "- Precision: 0.5643\n",
      "- Recall: 0.5842\n",
      "===================================\n",
      "\n",
      "\n"
     ]
    },
    {
     "name": "stderr",
     "output_type": "stream",
     "text": [
      "c:\\Users\\HP\\AppData\\Local\\Programs\\Python\\Python313\\Lib\\site-packages\\sklearn\\metrics\\_classification.py:1706: UndefinedMetricWarning: Precision is ill-defined and being set to 0.0 in labels with no predicted samples. Use `zero_division` parameter to control this behavior.\n",
      "  _warn_prf(average, modifier, f\"{metric.capitalize()} is\", result.shape[0])\n"
     ]
    },
    {
     "name": "stdout",
     "output_type": "stream",
     "text": [
      "Naive-Bayes\n",
      "Model performance for Training set\n",
      "- Accuracy: 0.5528\n",
      "- F1 score: 0.4837\n",
      "- Precision: 0.5799\n",
      "- Recall: 0.5528\n",
      "----------------------------------\n",
      "Model performance for Test set\n",
      "- Accuracy: 0.5239\n",
      "- F1 score: 0.4484\n",
      "- Precision: 0.5080\n",
      "- Recall: 0.5239\n",
      "===================================\n",
      "\n",
      "\n"
     ]
    }
   ],
   "source": [
    "## Model training and metric evaluation\n",
    "\n",
    "models={\n",
    "    \"Logistic-Regression\" : LogisticRegression(max_iter=100),\n",
    "    \"Naive-Bayes\" : MultinomialNB(),\n",
    "    \"Support-Vector-Machine\" : SVC(kernel='linear')\n",
    "}\n",
    "\n",
    "\n",
    "for i in range(len(list(models))):\n",
    "    model=list(models.values())[i]\n",
    "    model.fit(X_train,y_train)\n",
    "    \n",
    "    \n",
    "    \n",
    "    ## Make Prediction\n",
    "    y_predict_train=model.predict(X_train)\n",
    "    y_predict_test=model.predict(X_test)\n",
    "    \n",
    "    \n",
    "    ## Train set performance\n",
    "    y_predict_train_accuracy=accuracy_score(y_train,y_predict_train)\n",
    "    y_predict_train_f1_score=f1_score(y_train,y_predict_train,average='weighted',zero_division=0)\n",
    "    y_predict_train_precision=precision_score(y_train,y_predict_train,average='weighted',zero_division=0)\n",
    "    y_predict_train_recall=recall_score(y_train,y_predict_train,average='weighted',zero_division=0)\n",
    "    \n",
    "    ## Test set performance\n",
    "    y_predict_test_accuracy=accuracy_score(y_test,y_predict_test)\n",
    "    y_predict_test_f1_score=f1_score(y_test,y_predict_test,average='weighted')\n",
    "    y_predict_test_precision=precision_score(y_test,y_predict_test,average='weighted')\n",
    "    y_predict_test_recall=recall_score(y_test,y_predict_test,average='weighted')\n",
    "    \n",
    "    print(list(models.keys())[i])\n",
    "    \n",
    "    print('Model performance for Training set')\n",
    "    print(\"- Accuracy: {:.4f}\".format(y_predict_train_accuracy))\n",
    "    print('- F1 score: {:.4f}'.format(y_predict_train_f1_score))\n",
    "    \n",
    "    print('- Precision: {:.4f}'.format(y_predict_train_precision))\n",
    "    print('- Recall: {:.4f}'.format(y_predict_train_recall))\n",
    "\n",
    "    \n",
    "    \n",
    "    print('----------------------------------')\n",
    "    \n",
    "    print('Model performance for Test set')\n",
    "    print('- Accuracy: {:.4f}'.format(y_predict_test_accuracy))\n",
    "    print('- F1 score: {:.4f}'.format(y_predict_test_f1_score))\n",
    "    print('- Precision: {:.4f}'.format(y_predict_test_precision))\n",
    "    print('- Recall: {:.4f}'.format(y_predict_test_recall))\n",
    "\n",
    "    \n",
    "    print('='*35)\n",
    "    print('\\n')\n",
    "    \n",
    "    \n"
   ]
  }
 ],
 "metadata": {
  "kernelspec": {
   "display_name": "Python 3",
   "language": "python",
   "name": "python3"
  },
  "language_info": {
   "codemirror_mode": {
    "name": "ipython",
    "version": 3
   },
   "file_extension": ".py",
   "mimetype": "text/x-python",
   "name": "python",
   "nbconvert_exporter": "python",
   "pygments_lexer": "ipython3",
   "version": "3.13.5"
  }
 },
 "nbformat": 4,
 "nbformat_minor": 5
}
